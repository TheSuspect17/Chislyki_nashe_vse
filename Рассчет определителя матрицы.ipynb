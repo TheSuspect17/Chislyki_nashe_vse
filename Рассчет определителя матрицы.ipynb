{
 "cells": [
  {
   "cell_type": "code",
   "execution_count": 1,
   "metadata": {},
   "outputs": [],
   "source": [
    "import numpy as np\n",
    "from numpy import linalg as LA\n",
    "import copy\n",
    "import time"
   ]
  },
  {
   "cell_type": "code",
   "execution_count": 7,
   "metadata": {},
   "outputs": [],
   "source": [
    "def opredelitel(matrix,mult):\n",
    "    porydok_matrix = len(matrix)\n",
    "    if porydok_matrix == 1: \n",
    "        return mult*matrix[0][0]\n",
    "    else:\n",
    "        sign = -1\n",
    "        sum = 0\n",
    "    for i in range(porydok_matrix):\n",
    "        minor = []\n",
    "        for j in range(1, porydok_matrix):\n",
    "            stroka_minora = []\n",
    "            for k in range(porydok_matrix):\n",
    "                if k != i:\n",
    "                    stroka_minora.append(matrix[j][k])\n",
    "            minor.append(stroka_minora)\n",
    "    sign *= -1\n",
    "    sum += mult * opredelitel(minor, sign * matrix[0][i])\n",
    "    return sum"
   ]
  },
  {
   "cell_type": "code",
   "execution_count": 9,
   "metadata": {},
   "outputs": [
    {
     "name": "stdout",
     "output_type": "stream",
     "text": [
      "Введите число строк матрицы: 2\n",
      "Введите число столбцов матрицы: 2\n",
      "Введите значение ячейки а00:1\n",
      "Введите значение ячейки а01:2\n",
      "Введите значение ячейки а10:3\n",
      "Введите значение ячейки а11:4\n",
      "0j\n",
      "0.000997699999999213 seconds\n"
     ]
    }
   ],
   "source": [
    "while True:\n",
    "    m = input('Введите число строк матрицы: ')\n",
    "    if not m.isdigit():\n",
    "        print(\"Вы ввели некорректное число строк, повторите попытку: \")\n",
    "    else:\n",
    "        break\n",
    "while True:\n",
    "    n = input('Введите число столбцов матрицы: ')\n",
    "    if not n.isdigit():\n",
    "        print(\"Вы ввели некорректное число столбцов, повторите попытку: \")\n",
    "    else:\n",
    "        break\n",
    "m = int(m)\n",
    "n = int(n)\n",
    "while True:\n",
    "    if m <0:\n",
    "        m = int(input('Вы ввели некорректное число строк, повторите попытку: '))\n",
    "    if n<0:\n",
    "        n = int(input('Вы ввели некорректное число столбцов, повторите попытку: '))\n",
    "    if n == 0 and m != 0 or m == 0 and n!=0:\n",
    "        print('Данной матрицы не существует, клоун')\n",
    "        m = int(input('Введите корректное число строк: '))\n",
    "        n = int(input('Введите корректное число столбцов: '))\n",
    "        break\n",
    "    else:\n",
    "        break\n",
    "\n",
    "mtrx = [[0 for j in range(n)]for i in range (m)]\n",
    "\n",
    "for i in range (m):\n",
    "    for j in range (n):\n",
    "        k = input(f'Введите значение ячейки а{i}{j}:')\n",
    "        mtrx[i][j] = complex(k)\n",
    "start_time = time.perf_counter()       \n",
    "print(opredelitel(mtrx,1))\n",
    "stop_time = time.perf_counter()       \n",
    "print(stop_time - start_time, 'seconds')"
   ]
  },
  {
   "cell_type": "code",
   "execution_count": 10,
   "metadata": {},
   "outputs": [
    {
     "name": "stdout",
     "output_type": "stream",
     "text": [
      "(-2.0000000000000004+0j)\n",
      "0.00023980000000278778 seconds\n"
     ]
    }
   ],
   "source": [
    "start_time = time.perf_counter()     \n",
    "print(np.linalg.det(mtrx))\n",
    "stop_time = time.perf_counter()    \n",
    "print(stop_time - start_time, 'seconds')"
   ]
  },
  {
   "cell_type": "code",
   "execution_count": null,
   "metadata": {},
   "outputs": [],
   "source": []
  }
 ],
 "metadata": {
  "kernelspec": {
   "display_name": "Python 3",
   "language": "python",
   "name": "python3"
  },
  "language_info": {
   "codemirror_mode": {
    "name": "ipython",
    "version": 3
   },
   "file_extension": ".py",
   "mimetype": "text/x-python",
   "name": "python",
   "nbconvert_exporter": "python",
   "pygments_lexer": "ipython3",
   "version": "3.8.3"
  }
 },
 "nbformat": 4,
 "nbformat_minor": 4
}
