{
 "cells": [
  {
   "cell_type": "markdown",
   "metadata": {},
   "source": [
    "1 задача: На вход матрица \n",
    "вывод транспонированнная матриц\n",
    "n inpit \n",
    "m input + проверка на дурака\n",
    "на входе матрица m на n \n",
    "сравнение со стандартными логаритмами по времени\n",
    "\n",
    "2 задача\n",
    "под каждый тип опреаций: их всего 4. \n",
    "\n",
    "3 задача: \n",
    "вводится кваратная матрица максимальный ранг 5.  рекурсией считаем определитель матрицы. "
   ]
  },
  {
   "cell_type": "code",
   "execution_count": 8,
   "metadata": {},
   "outputs": [],
   "source": [
    "import numpy as np\n",
    "import sympy\n",
    "import time"
   ]
  },
  {
   "cell_type": "code",
   "execution_count": 9,
   "metadata": {},
   "outputs": [],
   "source": [
    "# проверка на линейно-завимую матрицу\n",
    "def combs(mat):\n",
    "    temp = []\n",
    "    _, inds = sympy.Matrix(mat).T.rref()\n",
    "    inds = list(inds)\n",
    "    for i in range (len(inds)):\n",
    "        for j in range (len(mat)):\n",
    "            if j == inds[i]:\n",
    "                temp.append(mat[j])\n",
    "    return temp"
   ]
  },
  {
   "cell_type": "code",
   "execution_count": 11,
   "metadata": {},
   "outputs": [
    {
     "name": "stdout",
     "output_type": "stream",
     "text": [
      "Введите число строк матрицы: 2\n",
      "Введите число столбцов матрицы: 2\n",
      "Введите значение ячейки а00:3\n",
      "Введите значение ячейки а01:3\n",
      "Введите значение ячейки а10:3\n",
      "Введите значение ячейки а11:33\n",
      "[['3', '3'], ['3', '33']]\n",
      "[['3', '3'], ['3', '33']]\n",
      "0.009452300000702962 seconds\n"
     ]
    }
   ],
   "source": [
    "### 1 задача\n",
    "\n",
    "while True:\n",
    "    m = input('Введите число строк матрицы: ')\n",
    "    if not m.isdigit():\n",
    "        print(\"Вы ввели некорректное число строк, повторите попытку: \")\n",
    "    else:\n",
    "        break\n",
    "while True:\n",
    "    n = input('Введите число столбцов матрицы: ')\n",
    "    if not n.isdigit():\n",
    "        print(\"Вы ввели некорректное число столбцов, повторите попытку: \")\n",
    "    else:\n",
    "        break\n",
    "m = int(m)\n",
    "n = int(n)\n",
    "while True:\n",
    "    if m <0:\n",
    "        m = int(input('Вы ввели некорректное число строк, повторите попытку: '))\n",
    "    if n<0:\n",
    "        n = int(input('Вы ввели некорректное число столбцов, повторите попытку: '))\n",
    "    if n == 0 and m != 0 or m == 0 and n!=0:\n",
    "        print('Данной матрицы не существует, клоун')\n",
    "        m = int(input('Введите корректное число строк: '))\n",
    "        n = int(input('Введите корректное число столбцов: '))\n",
    "        break\n",
    "    else:\n",
    "        break\n",
    "\n",
    "mtrx = [[0 for j in range(n)]for i in range (m)]\n",
    "\n",
    "for i in range (m):\n",
    "    for j in range (n):\n",
    "        k = input(f'Введите значение ячейки а{i}{j}:')\n",
    "        mtrx[i][j] = k\n",
    "start_time = time.perf_counter()        \n",
    "tr_mtrx = [[0 for j in range(m)]for i in range (n)]\n",
    "\n",
    "for i in range (m):\n",
    "    for j in range (n):\n",
    "        tr_mtrx[j][i] = mtrx[i][j]\n",
    "        \n",
    "tr_mtrx = combs(tr_mtrx)        \n",
    "    \n",
    "print(mtrx)\n",
    "print(tr_mtrx)\n",
    "\n",
    "stop_time = time.perf_counter()\n",
    "print(stop_time - start_time, 'seconds')"
   ]
  },
  {
   "cell_type": "code",
   "execution_count": 6,
   "metadata": {},
   "outputs": [
    {
     "name": "stdout",
     "output_type": "stream",
     "text": [
      "[['1']\n",
      " ['2']]\n",
      "0.0004710000002887682 seconds\n"
     ]
    }
   ],
   "source": [
    "start_time = time.perf_counter()        \n",
    "print(np.transpose(mtrx))\n",
    "stop_time = time.perf_counter()\n",
    "print(stop_time - start_time, 'seconds')"
   ]
  },
  {
   "cell_type": "markdown",
   "metadata": {},
   "source": []
  }
 ],
 "metadata": {
  "kernelspec": {
   "display_name": "Python 3",
   "language": "python",
   "name": "python3"
  },
  "language_info": {
   "codemirror_mode": {
    "name": "ipython",
    "version": 3
   },
   "file_extension": ".py",
   "mimetype": "text/x-python",
   "name": "python",
   "nbconvert_exporter": "python",
   "pygments_lexer": "ipython3",
   "version": "3.8.3"
  }
 },
 "nbformat": 4,
 "nbformat_minor": 4
}
