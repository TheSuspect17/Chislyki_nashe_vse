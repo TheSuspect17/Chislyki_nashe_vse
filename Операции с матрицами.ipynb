{
 "cells": [
  {
   "cell_type": "markdown",
   "metadata": {},
   "source": [
    "2 задача: матричное выражение (2а+3б)*с-d все буквы это матрицы. Все матрицы одого размера. 3 на 3 и квадратные.Матрицы комплексные. вывод матрица."
   ]
  },
  {
   "cell_type": "code",
   "execution_count": 1,
   "metadata": {},
   "outputs": [],
   "source": [
    "import numpy as np\n",
    "import sympy"
   ]
  },
  {
   "cell_type": "code",
   "execution_count": 2,
   "metadata": {},
   "outputs": [],
   "source": [
    "### 2 задача \n",
    "\n",
    "def schit(): \n",
    "    while True:\n",
    "        m = input(f'Введите число строк матрицы: ')\n",
    "        if not m.isdigit():\n",
    "            print(\"Вы ввели некорректное число строк, повторите попытку: \")\n",
    "        else:\n",
    "            break\n",
    "    while True:\n",
    "        n = input('Введите число столбцов матрицы: ')\n",
    "        if not n.isdigit():\n",
    "            print(\"Вы ввели некорректное число столбцов, повторите попытку: \")\n",
    "        else:\n",
    "            break\n",
    "    m = int(m)\n",
    "    n = int(n)\n",
    "    while True:\n",
    "        if m <0:\n",
    "            m = int(input('Вы ввели некорректное число строк, повторите попытку: '))\n",
    "        if n<0:\n",
    "            n = int(input('Вы ввели некорректное число столбцов, повторите попытку: '))\n",
    "        if n == 0 and m != 0 or m == 0 and n!=0:\n",
    "            print('Данной матрицы не существует, клоун')\n",
    "            m = int(input('Введите корректное число строк: '))\n",
    "            n = int(input('Введите корректное число столбцов: '))\n",
    "            break\n",
    "        else:\n",
    "            break\n",
    "\n",
    "    mtrx = [[0 for j in range(n)]for i in range (m)]\n",
    "\n",
    "    for i in range (m):\n",
    "        for j in range (n):\n",
    "            k = input(f'Введите значение ячейки а{i}{j}:')\n",
    "            mtrx[i][j] = k  \n",
    "    return mtrx"
   ]
  },
  {
   "cell_type": "code",
   "execution_count": 3,
   "metadata": {},
   "outputs": [],
   "source": [
    "def summ(mtrx_1, mtrx_2):\n",
    "    tmp_mtrx = [[0 for j in range(len(mtrx_1))]for i in range (len(mtrx_1[0]))]\n",
    "    for i in range (len(mtrx_1)):\n",
    "        for j in range (len(mtrx_1[0])):\n",
    "            t = complex(mtrx_1[i][j])\n",
    "            m = complex(mtrx_2[i][j])\n",
    "            tmp_mtrx[i][j] = t + m\n",
    "    return tmp_mtrx"
   ]
  },
  {
   "cell_type": "code",
   "execution_count": 5,
   "metadata": {},
   "outputs": [],
   "source": [
    "def vychet(mtrx_1, mtrx_2):\n",
    "    tmp_mtrx = [[0 for j in range(len(mtrx_1))]for i in range (len(mtrx_1[0]))]\n",
    "    for i in range (len(mtrx_1)):\n",
    "        for j in range (len(mtrx_1[0])):\n",
    "            t = complex(mtrx_1[i][j])\n",
    "            m = complex(mtrx_2[i][j])\n",
    "            tmp_mtrx[i][j] = t - m\n",
    "    return tmp_mtrx"
   ]
  },
  {
   "cell_type": "code",
   "execution_count": 7,
   "metadata": {},
   "outputs": [],
   "source": [
    "def mult_by_count(mtrx_1, k):\n",
    "    tmp_mtrx = [[0 for j in range(len(mtrx_1))]for i in range (len(mtrx_1[0]))]\n",
    "    for i in range (len(mtrx_1)):\n",
    "        for j in range (len(mtrx_1[0])):\n",
    "            k = complex(k)\n",
    "            t = complex(mtrx_1[i][j])\n",
    "            tmp_mtrx[i][j] = t*k\n",
    "    return tmp_mtrx"
   ]
  },
  {
   "cell_type": "code",
   "execution_count": 12,
   "metadata": {},
   "outputs": [],
   "source": [
    "def mult(mtrx_1, mtrx_2):\n",
    "    s=0\n",
    "    t=[]\n",
    "    m3=[]\n",
    "    r1=len(mtrx_1) \n",
    "    for z in range(0,r1):\n",
    "        for j in range(0,r1):\n",
    "            for i in range(0,r1):\n",
    "                l1 = complex(mtrx_1[z][i])\n",
    "                l2 = complex(mtrx_2[i][j])\n",
    "                s=s+l1*l2\n",
    "            t.append(s)\n",
    "            s=0\n",
    "        m3.append(t)\n",
    "        t=[] \n",
    "    return m3"
   ]
  }
 ],
 "metadata": {
  "kernelspec": {
   "display_name": "Python 3",
   "language": "python",
   "name": "python3"
  },
  "language_info": {
   "codemirror_mode": {
    "name": "ipython",
    "version": 3
   },
   "file_extension": ".py",
   "mimetype": "text/x-python",
   "name": "python",
   "nbconvert_exporter": "python",
   "pygments_lexer": "ipython3",
   "version": "3.8.3"
  }
 },
 "nbformat": 4,
 "nbformat_minor": 4
}
